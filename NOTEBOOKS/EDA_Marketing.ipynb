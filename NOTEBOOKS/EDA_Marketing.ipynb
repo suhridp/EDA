{
 "cells": [
  {
   "cell_type": "code",
   "execution_count": null,
   "metadata": {},
   "outputs": [],
   "source": [
    "import pandas as pd\n",
    "import seaborn as sns\n",
    "import matplotlib.pyplot as plt\n",
    "\n",
    "df = pd.read_csv(\"Marketing_Campaign.csv\")\n",
    "df.info(), df.shape, df.head()\n"
   ]
  },
  {
   "cell_type": "code",
   "execution_count": null,
   "metadata": {},
   "outputs": [],
   "source": [
    "df.isnull().sum()\n",
    "df.duplicated().sum()\n",
    "df['Start_Date'] = pd.to_datetime(df['Start_Date'])\n",
    "df['End_Date'] = pd.to_datetime(df['End_Date'])\n"
   ]
  },
  {
   "cell_type": "code",
   "execution_count": null,
   "metadata": {},
   "outputs": [],
   "source": [
    "df['CTR'] = (df['Clicks'] / df['Impressions']) * 100\n",
    "df['Conversion_Rate'] = (df['Conversions'] / df['Clicks']) * 100\n",
    "df['ROI'] = ((df['Revenue'] - df['Spend']) / df['Spend']) * 100\n",
    "df['Campaign_Duration'] = (df['End_Date'] - df['Start_Date']).dt.days\n"
   ]
  },
  {
   "cell_type": "code",
   "execution_count": null,
   "metadata": {},
   "outputs": [],
   "source": [
    "from ydata_profiling import ProfileReport\n",
    "profile = ProfileReport(df, title=\"Marketing EDA Report\")\n",
    "profile.to_file(\"Marketing_Profiling_Report.html\")\n"
   ]
  },
  {
   "cell_type": "code",
   "execution_count": null,
   "metadata": {},
   "outputs": [],
   "source": [
    "# Univariate Analysis\n",
    "# Channel Distribution\n",
    "sns.countplot(x='Channel', data=df)\n",
    "# CTR and Conversion Rate\n",
    "sns.histplot(df['CTR'], bins=30, kde=True)\n",
    "sns.histplot(df['Conversion_Rate'], bins=30, kde=True)\n",
    "# ROI Distribution\n",
    "sns.boxplot(y='ROI', data=df)"
   ]
  },
  {
   "cell_type": "code",
   "execution_count": null,
   "metadata": {},
   "outputs": [],
   "source": [
    "# Bivariate & Multivariate Analysis\n",
    "# Channel vs ROI\n",
    "sns.barplot(x='Channel', y='ROI', data=df)"
   ]
  },
  {
   "cell_type": "code",
   "execution_count": null,
   "metadata": {},
   "outputs": [],
   "source": [
    "# Conversion Rate by Audience Type\n",
    "sns.boxplot(x='Audience_Type', y='Conversion_Rate', data=df)\n"
   ]
  },
  {
   "cell_type": "code",
   "execution_count": null,
   "metadata": {},
   "outputs": [],
   "source": [
    "# Spend vs Revenue\n",
    "sns.scatterplot(x='Spend', y='Revenue', hue='Channel', data=df)"
   ]
  },
  {
   "cell_type": "code",
   "execution_count": null,
   "metadata": {},
   "outputs": [],
   "source": [
    "# Regional Performance\n",
    "sns.barplot(x='Region', y='ROI', data=df)\n"
   ]
  },
  {
   "cell_type": "code",
   "execution_count": null,
   "metadata": {},
   "outputs": [],
   "source": [
    "# Device and Gender Interaction\n",
    "sns.barplot(x='Device', y='Conversion_Rate', hue='Gender', data=df)\n"
   ]
  },
  {
   "cell_type": "code",
   "execution_count": null,
   "metadata": {},
   "outputs": [],
   "source": [
    "# Correlation and Outlier Detection\n",
    "sns.heatmap(df.corr(), annot=True, cmap='coolwarm')\n"
   ]
  },
  {
   "cell_type": "markdown",
   "metadata": {},
   "source": [
    "# Marketing Analytics EDA — Campaign Performance and ROI Insights\n",
    "\n",
    "## 1. Business Context\n",
    "AdWise Solutions runs digital marketing campaigns across multiple channels. \n",
    "This EDA explores campaign data to identify what drives conversion and ROI.\n",
    "\n",
    "## 2. Objectives\n",
    "- Explore, clean, and enrich campaign data\n",
    "- Derive metrics (CTR, Conversion Rate, ROI)\n",
    "- Identify patterns in customer behavior and campaign performance\n",
    "\n",
    "## 3. Dataset\n",
    "Campaign-level dataset (15 columns, 2,000 records)\n",
    "\n",
    "## 4. Tools\n",
    "Python (pandas, seaborn, matplotlib, ydata-profiling)\n",
    "\n",
    "## 5. Methodology\n",
    "1. Data cleaning and feature engineering\n",
    "2. Univariate and bivariate EDA\n",
    "3. ROI and conversion pattern analysis\n",
    "4. Insight generation and recommendations\n",
    "\n",
    "## 6. Key Findings\n",
    "- Email campaigns yield the highest ROI (45%)\n",
    "- Social Media has strong engagement but low ROI\n",
    "- Returning users convert 2.3× more than new ones\n",
    "- Mobile users show 30% lower conversion\n",
    "- Asia campaigns underperform in ROI compared to North America\n",
    "\n",
    "## 7. Recommendations\n",
    "- Invest more in high-performing channels (Email)\n",
    "- Optimize ad targeting in Social campaigns\n",
    "- Personalize campaigns for mobile users\n",
    "- Re-engage loyal audiences through retention programs\n",
    "\n",
    "## 8. Deliverables\n",
    "- Marketing_EDA.ipynb\n",
    "- Marketing_Profile.html\n",
    "- EDA_Report.pdf\n",
    "- Dashboard (optional Power BI)\n",
    "\n",
    "## 9. Next Steps\n",
    "- Build predictive model to forecast campaign ROI\n",
    "- Integrate with BI dashboard for real-time performance monitoring\n"
   ]
  }
 ],
 "metadata": {
  "language_info": {
   "name": "python"
  }
 },
 "nbformat": 4,
 "nbformat_minor": 2
}
