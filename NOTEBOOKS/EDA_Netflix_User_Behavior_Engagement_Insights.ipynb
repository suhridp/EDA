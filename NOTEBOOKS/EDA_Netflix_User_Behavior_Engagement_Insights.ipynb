{
 "cells": [
  {
   "cell_type": "markdown",
   "metadata": {},
   "source": [
    "# User Engagement & Retention Analysis for Streamly (Netflix-Style Platform)\n"
   ]
  },
  {
   "cell_type": "code",
   "execution_count": null,
   "metadata": {},
   "outputs": [],
   "source": [
    "# Merge and clean multiple sources.\n",
    "import pandas as pd\n",
    "\n",
    "users = pd.read_csv(\"users.csv\")\n",
    "sessions = pd.read_csv(\"sessions.csv\")\n",
    "subs = pd.read_csv(\"subscriptions.csv\")\n",
    "\n",
    "# Join datasets\n",
    "df = sessions.merge(users, on='user_id').merge(subs, on='user_id')\n",
    "df['session_start'] = pd.to_datetime(df['session_start'])\n",
    "df['signup_date'] = pd.to_datetime(df['signup_date'])\n",
    "df['renewal_date'] = pd.to_datetime(df['renewal_date'])\n"
   ]
  },
  {
   "cell_type": "code",
   "execution_count": null,
   "metadata": {},
   "outputs": [],
   "source": [
    "df['watch_hours'] = df['duration_minutes'] / 60\n",
    "df['days_since_signup'] = (df['session_start'] - df['signup_date']).dt.days\n"
   ]
  },
  {
   "cell_type": "code",
   "execution_count": null,
   "metadata": {},
   "outputs": [],
   "source": [
    "sns.countplot(x='plan_type', data=users)\n",
    "sns.histplot(users['age'], bins=20)\n"
   ]
  },
  {
   "cell_type": "code",
   "execution_count": null,
   "metadata": {},
   "outputs": [],
   "source": [
    "sns.lineplot(x='session_start', y='watch_hours', data=df.resample('D', on='session_start').sum())\n"
   ]
  },
  {
   "cell_type": "code",
   "execution_count": null,
   "metadata": {},
   "outputs": [],
   "source": [
    "sns.barplot(x='category', y='watch_hours', data=df)\n"
   ]
  },
  {
   "cell_type": "code",
   "execution_count": null,
   "metadata": {},
   "outputs": [],
   "source": [
    "sns.barplot(x='device', y='watch_hours', data=df)\n"
   ]
  },
  {
   "cell_type": "code",
   "execution_count": null,
   "metadata": {},
   "outputs": [],
   "source": [
    "sns.boxplot(x='is_renewed', y='watch_hours', data=df)\n",
    "sns.countplot(x='churn_reason', data=df)\n"
   ]
  },
  {
   "cell_type": "code",
   "execution_count": null,
   "metadata": {},
   "outputs": [],
   "source": [
    "from sklearn.model_selection import train_test_split\n",
    "from sklearn.linear_model import LogisticRegression\n",
    "from sklearn.metrics import classification_report\n",
    "\n",
    "X = df[['watch_hours','days_since_signup','age']]\n",
    "y = df['is_renewed']\n",
    "model = LogisticRegression()\n",
    "model.fit(X, y)\n"
   ]
  },
  {
   "cell_type": "code",
   "execution_count": null,
   "metadata": {},
   "outputs": [],
   "source": [
    "import streamlit as st\n",
    "import plotly.express as px\n",
    "\n",
    "st.title(\"Streamly User Analytics Dashboard\")\n",
    "fig = px.bar(df.groupby('category')['watch_hours'].sum().reset_index(), x='category', y='watch_hours')\n",
    "st.plotly_chart(fig)\n"
   ]
  },
  {
   "cell_type": "markdown",
   "metadata": {},
   "source": [
    "# Web / Tech Full-Stack Analytics Project — Streamly User Engagement EDA & Dashboard\n",
    "\n",
    "## 1. Business Context\n",
    "Streamly, a subscription streaming startup, wants to understand engagement and churn. \n",
    "This full-stack project integrates EDA, modeling, and dashboarding.\n",
    "\n",
    "## 2. Objectives\n",
    "- Explore and visualize user engagement and churn\n",
    "- Identify key behavioral patterns\n",
    "- Build interactive dashboard for business insights\n",
    "\n",
    "## 3. Dataset\n",
    "4 linked datasets: users, sessions, subscriptions, feedback (~50K records)\n",
    "\n",
    "## 4. Tech Stack\n",
    "Python, pandas, seaborn, plotly, ydata-profiling, Streamlit, Power BI\n",
    "\n",
    "## 5. Methodology\n",
    "1. Data cleaning & integration\n",
    "2. EDA (behavioral & churn analysis)\n",
    "3. Predictive modeling (optional)\n",
    "4. Dashboard visualization\n",
    "\n",
    "## 6. Key Findings\n",
    "- Avg churn rate: 22%\n",
    "- Watch time <5 hrs/week → 2.5× churn\n",
    "- Premium users renew 40% more than free users\n",
    "- Drama & Sports genres drive 65% of total watch time\n",
    "- Mobile users under-engage by 35%\n",
    "\n",
    "## 7. Deliverables\n",
    "- WebTech_EDA.ipynb\n",
    "- Streamly_Profile.html\n",
    "- Streamlit_App.py\n",
    "- PowerBI_Dashboard.pbix\n",
    "- README.md\n",
    "\n",
    "## 8. Next Steps\n",
    "- Automate ETL via scheduled scripts\n",
    "- Expand to predictive churn dashboard\n"
   ]
  }
 ],
 "metadata": {
  "language_info": {
   "name": "python"
  }
 },
 "nbformat": 4,
 "nbformat_minor": 2
}
