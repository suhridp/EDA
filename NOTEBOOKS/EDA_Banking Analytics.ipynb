{
 "cells": [
  {
   "cell_type": "code",
   "execution_count": 2,
   "metadata": {},
   "outputs": [
    {
     "name": "stdout",
     "output_type": "stream",
     "text": [
      "<class 'pandas.core.frame.DataFrame'>\n",
      "RangeIndex: 32581 entries, 0 to 32580\n",
      "Data columns (total 12 columns):\n",
      " #   Column                      Non-Null Count  Dtype  \n",
      "---  ------                      --------------  -----  \n",
      " 0   person_age                  32581 non-null  int64  \n",
      " 1   person_income               32581 non-null  int64  \n",
      " 2   person_home_ownership       32581 non-null  object \n",
      " 3   person_emp_length           31686 non-null  float64\n",
      " 4   loan_intent                 32581 non-null  object \n",
      " 5   loan_grade                  32581 non-null  object \n",
      " 6   loan_amnt                   32581 non-null  int64  \n",
      " 7   loan_int_rate               29465 non-null  float64\n",
      " 8   loan_status                 32581 non-null  int64  \n",
      " 9   loan_percent_income         32581 non-null  float64\n",
      " 10  cb_person_default_on_file   32581 non-null  object \n",
      " 11  cb_person_cred_hist_length  32581 non-null  int64  \n",
      "dtypes: float64(3), int64(5), object(4)\n",
      "memory usage: 3.0+ MB\n"
     ]
    },
    {
     "data": {
      "text/plain": [
       "((32581, 12),\n",
       " None,\n",
       "    person_age  person_income person_home_ownership  person_emp_length  \\\n",
       " 0          22          59000                  RENT              123.0   \n",
       " 1          21           9600                   OWN                5.0   \n",
       " 2          25           9600              MORTGAGE                1.0   \n",
       " 3          23          65500                  RENT                4.0   \n",
       " 4          24          54400                  RENT                8.0   \n",
       " \n",
       "   loan_intent loan_grade  loan_amnt  loan_int_rate  loan_status  \\\n",
       " 0    PERSONAL          D      35000          16.02            1   \n",
       " 1   EDUCATION          B       1000          11.14            0   \n",
       " 2     MEDICAL          C       5500          12.87            1   \n",
       " 3     MEDICAL          C      35000          15.23            1   \n",
       " 4     MEDICAL          C      35000          14.27            1   \n",
       " \n",
       "    loan_percent_income cb_person_default_on_file  cb_person_cred_hist_length  \n",
       " 0                 0.59                         Y                           3  \n",
       " 1                 0.10                         N                           2  \n",
       " 2                 0.57                         N                           3  \n",
       " 3                 0.53                         N                           2  \n",
       " 4                 0.55                         Y                           4  )"
      ]
     },
     "execution_count": 2,
     "metadata": {},
     "output_type": "execute_result"
    }
   ],
   "source": [
    "import pandas as pd\n",
    "import seaborn as sns\n",
    "import matplotlib.pyplot as plt\n",
    "\n",
    "df = pd.read_csv(\"Bank_Credit_Default.csv\")\n",
    "df.shape, df.info(), df.head()\n"
   ]
  },
  {
   "cell_type": "code",
   "execution_count": 4,
   "metadata": {},
   "outputs": [],
   "source": [
    "df['Age_Group'] = pd.cut(df['person_age'], bins=[18, 30, 45, 60, 80], labels=['18–30','31–45','46–60','60+'])\n",
    "df['Income_Bucket'] = pd.qcut(df['person_income'], q=4, labels=['Low','Medium','High','Very High'])\n"
   ]
  },
  {
   "cell_type": "code",
   "execution_count": 5,
   "metadata": {},
   "outputs": [
    {
     "ename": "ModuleNotFoundError",
     "evalue": "No module named 'ydata_profiling'",
     "output_type": "error",
     "traceback": [
      "\u001b[0;31m---------------------------------------------------------------------------\u001b[0m",
      "\u001b[0;31mModuleNotFoundError\u001b[0m                       Traceback (most recent call last)",
      "Cell \u001b[0;32mIn[5], line 1\u001b[0m\n\u001b[0;32m----> 1\u001b[0m \u001b[38;5;28;01mfrom\u001b[39;00m\u001b[38;5;250m \u001b[39m\u001b[38;5;21;01mydata_profiling\u001b[39;00m\u001b[38;5;250m \u001b[39m\u001b[38;5;28;01mimport\u001b[39;00m ProfileReport\n\u001b[1;32m      2\u001b[0m profile \u001b[38;5;241m=\u001b[39m ProfileReport(df, title\u001b[38;5;241m=\u001b[39m\u001b[38;5;124m\"\u001b[39m\u001b[38;5;124mBank Credit Default EDA Report\u001b[39m\u001b[38;5;124m\"\u001b[39m)\n\u001b[1;32m      3\u001b[0m profile\u001b[38;5;241m.\u001b[39mto_file(\u001b[38;5;124m\"\u001b[39m\u001b[38;5;124mBank_Credit_Profiling.html\u001b[39m\u001b[38;5;124m\"\u001b[39m)\n",
      "\u001b[0;31mModuleNotFoundError\u001b[0m: No module named 'ydata_profiling'"
     ]
    }
   ],
   "source": [
    "from ydata_profiling import ProfileReport\n",
    "profile = ProfileReport(df, title=\"Bank Credit Default EDA Report\")\n",
    "profile.to_file(\"Bank_Credit_Profiling.html\")\n"
   ]
  },
  {
   "cell_type": "code",
   "execution_count": null,
   "metadata": {},
   "outputs": [],
   "source": [
    "sns.histplot(df['Credit_Score'], kde=True, bins=30)\n"
   ]
  },
  {
   "cell_type": "code",
   "execution_count": null,
   "metadata": {},
   "outputs": [],
   "source": [
    "sns.countplot(x='Default_Flag', data=df)\n"
   ]
  },
  {
   "cell_type": "code",
   "execution_count": null,
   "metadata": {},
   "outputs": [],
   "source": [
    "sns.countplot(x='Card_Type', hue='Default_Flag', data=df)\n"
   ]
  },
  {
   "cell_type": "code",
   "execution_count": null,
   "metadata": {},
   "outputs": [],
   "source": [
    "sns.boxplot(x='Default_Flag', y='Credit_Score', data=df)\n"
   ]
  },
  {
   "cell_type": "code",
   "execution_count": null,
   "metadata": {},
   "outputs": [],
   "source": [
    "sns.boxplot(x='Default_Flag', y='Utilization_Rate', data=df)\n"
   ]
  },
  {
   "cell_type": "code",
   "execution_count": null,
   "metadata": {},
   "outputs": [],
   "source": [
    "sns.scatterplot(x='Income', y='Credit_Limit', hue='Default_Flag', data=df)\n"
   ]
  },
  {
   "cell_type": "code",
   "execution_count": null,
   "metadata": {},
   "outputs": [],
   "source": [
    "sns.histplot(df[df['Default_Flag']==1]['Payment_Ratio'], kde=True, color='r')\n"
   ]
  },
  {
   "cell_type": "code",
   "execution_count": null,
   "metadata": {},
   "outputs": [],
   "source": [
    "sns.heatmap(df.corr(), annot=True, cmap='YlGnBu')\n"
   ]
  },
  {
   "cell_type": "code",
   "execution_count": null,
   "metadata": {},
   "outputs": [],
   "source": [
    "sns.barplot(x='Age_Group', y='Default_Flag', data=df)\n"
   ]
  },
  {
   "cell_type": "code",
   "execution_count": null,
   "metadata": {},
   "outputs": [],
   "source": [
    "sns.barplot(x='Region', y='Default_Flag', data=df)\n"
   ]
  },
  {
   "cell_type": "markdown",
   "metadata": {},
   "source": [
    "# Banking Analytics EDA — Credit Card Default Risk Analysis\n",
    "\n",
    "## 1. Business Context\n",
    "FinWise Bank is experiencing increased defaults in its credit card portfolio. \n",
    "This EDA identifies patterns and risk factors driving defaults among customers.\n",
    "\n",
    "## 2. Objectives\n",
    "- Explore customer and transactional data\n",
    "- Identify correlations between behavior and default\n",
    "- Recommend actions for risk mitigation\n",
    "\n",
    "## 3. Dataset\n",
    "5,000 customer records, 18 variables (demographics, credit usage, payment behavior)\n",
    "\n",
    "## 4. Tools\n",
    "Python (pandas, seaborn, matplotlib, ydata-profiling)\n",
    "\n",
    "## 5. Methodology\n",
    "1. Data cleaning & preprocessing\n",
    "2. EDA (univariate, bivariate, multivariate)\n",
    "3. Correlation & behavioral analysis\n",
    "4. Insight generation & recommendations\n",
    "\n",
    "## 6. Key Findings\n",
    "- Default rate: 22.4%\n",
    "- Credit Score <600 → 3× higher default risk\n",
    "- Utilization >80% and Payment Ratio <0.3 strongly predict default\n",
    "- Younger, high-spend users = higher risk\n",
    "- Digital card users show lower defaults\n",
    "\n",
    "## 7. Recommendations\n",
    "- Implement real-time credit risk scoring\n",
    "- Targeted alerts for high utilization accounts\n",
    "- Financial education for younger demographics\n",
    "- Incentivize higher monthly payments\n",
    "\n",
    "## 8. Deliverables\n",
    "- Banking_EDA.ipynb\n",
    "- Bank_Credit_Profiling.html\n",
    "- Insights_Report.pdf\n",
    "\n",
    "## 9. Next Steps\n",
    "- Build credit default prediction model (Logistic Regression)\n",
    "- Integrate alerts into Power BI risk dashboard\n"
   ]
  }
 ],
 "metadata": {
  "kernelspec": {
   "display_name": "Python (myenv)",
   "language": "python",
   "name": "myenv"
  },
  "language_info": {
   "codemirror_mode": {
    "name": "ipython",
    "version": 3
   },
   "file_extension": ".py",
   "mimetype": "text/x-python",
   "name": "python",
   "nbconvert_exporter": "python",
   "pygments_lexer": "ipython3",
   "version": "3.10.18"
  }
 },
 "nbformat": 4,
 "nbformat_minor": 2
}
