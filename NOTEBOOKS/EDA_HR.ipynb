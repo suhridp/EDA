{
 "cells": [
  {
   "cell_type": "code",
   "execution_count": null,
   "metadata": {},
   "outputs": [],
   "source": [
    "import pandas as pd\n",
    "import seaborn as sns\n",
    "import matplotlib.pyplot as plt\n",
    "\n",
    "df = pd.read_csv('HR_Attrition.csv')\n",
    "df.shape, df.info(), df.head()\n"
   ]
  },
  {
   "cell_type": "code",
   "execution_count": null,
   "metadata": {},
   "outputs": [],
   "source": [
    "df.isnull().sum()\n",
    "df.duplicated().sum()\n"
   ]
  },
  {
   "cell_type": "code",
   "execution_count": null,
   "metadata": {},
   "outputs": [],
   "source": [
    "from ydata_profiling import ProfileReport\n",
    "profile = ProfileReport(df, title=\"HR Attrition EDA Report\")\n",
    "profile.to_file(\"HR_Attrition_Profile.html\")\n"
   ]
  },
  {
   "cell_type": "code",
   "execution_count": null,
   "metadata": {},
   "outputs": [],
   "source": [
    "df[['Age', 'MonthlyIncome', 'TotalWorkingYears']].describe()\n",
    "sns.histplot(df['MonthlyIncome'], kde=True)\n",
    "sns.boxplot(x='Attrition', y='MonthlyIncome', data=df)\n"
   ]
  },
  {
   "cell_type": "code",
   "execution_count": null,
   "metadata": {},
   "outputs": [],
   "source": [
    "sns.countplot(x='Department', hue='Attrition', data=df)\n",
    "sns.countplot(x='JobSatisfaction', hue='Attrition', data=df)\n"
   ]
  },
  {
   "cell_type": "code",
   "execution_count": null,
   "metadata": {},
   "outputs": [],
   "source": [
    "sns.heatmap(df.corr(), annot=True, cmap='coolwarm')\n"
   ]
  },
  {
   "cell_type": "code",
   "execution_count": null,
   "metadata": {},
   "outputs": [],
   "source": [
    "attrition_rate = df['Attrition'].value_counts(normalize=True)\n",
    "sns.barplot(x='OverTime', y='Attrition', data=df, estimator=lambda x: sum(x=='Yes')/len(x))\n"
   ]
  },
  {
   "cell_type": "code",
   "execution_count": null,
   "metadata": {},
   "outputs": [],
   "source": [
    "sns.catplot(x='JobSatisfaction', y='MonthlyIncome', hue='Attrition', data=df, kind='box')\n",
    "sns.lmplot(x='YearsAtCompany', y='MonthlyIncome', hue='Attrition', data=df)\n"
   ]
  },
  {
   "cell_type": "markdown",
   "metadata": {},
   "source": [
    "# HR Analytics EDA — Understanding Employee Attrition\n",
    "\n",
    "## 1. Business Context\n",
    "DataX Solutions is facing high employee turnover. This analysis explores HR data to identify the factors driving attrition.\n",
    "\n",
    "## 2. Objectives\n",
    "- Explore and clean HR dataset\n",
    "- Identify correlations with attrition\n",
    "- Recommend retention strategies\n",
    "\n",
    "## 3. Dataset\n",
    "1470 employees, 35 features (IBM HR Analytics dataset)\n",
    "\n",
    "## 4. Methodology\n",
    "1. Data cleaning & preprocessing\n",
    "2. Univariate & bivariate EDA\n",
    "3. Attrition pattern analysis\n",
    "4. Insight summary and recommendations\n",
    "\n",
    "## 5. Key Findings\n",
    "- 16% attrition rate overall\n",
    "- Overtime workers 2.5× more likely to leave\n",
    "- Low job satisfaction = 60% attrition\n",
    "- New hires (<2 yrs) churn rapidly\n",
    "- Salary positively correlated with retention\n",
    "\n",
    "## 6. Recommendations\n",
    "- Introduce work-life balance initiatives\n",
    "- Incentivize long-term tenure\n",
    "- Increase feedback and training programs\n",
    "\n",
    "## 7. Deliverables\n",
    "- HR_EDA.ipynb\n",
    "- HR_Profile.html (auto profiling)\n",
    "- EDA_Report.pdf\n",
    "\n",
    "## 8. Next Steps\n",
    "- Build predictive model (Logistic Regression)\n",
    "- Integrate with Power BI HR Dashboard\n"
   ]
  }
 ],
 "metadata": {
  "language_info": {
   "name": "python"
  }
 },
 "nbformat": 4,
 "nbformat_minor": 2
}
